{
 "cells": [
  {
   "cell_type": "code",
   "execution_count": 37,
   "metadata": {},
   "outputs": [],
   "source": [
    "import pandas as pd \n",
    "import requests"
   ]
  },
  {
   "cell_type": "code",
   "execution_count": 38,
   "metadata": {},
   "outputs": [],
   "source": [
    "response = requests.get(\"https://indicadores.integrasus.saude.ce.gov.br/api/casos-coronavirus?dataInicio=2020-03-01&dataFim=2020-03-01\")\n",
    "json = response.json()"
   ]
  },
  {
   "cell_type": "code",
   "execution_count": 39,
   "metadata": {},
   "outputs": [],
   "source": [
    "if response.status_code == 200:\n",
    "    cases_covid = pd.DataFrame(json)"
   ]
  },
  {
   "cell_type": "code",
   "execution_count": 40,
   "metadata": {},
   "outputs": [
    {
     "output_type": "execute_result",
     "data": {
      "text/plain": "                     codigoPaciente estadoPaciente codigoMunicipioPaciente  \\\n0  417921f82efaa5e532b45c2f56d0d666             CE                  230440   \n1  3cba1f1d4fe587113a67ab10c743123e             CE                  230440   \n2  e06c6e51a686528cf87a9aec8cdd4293             CE                  230440   \n3  696e1acd2b5af47f980ed826c50062f5             CE                  230440   \n4  bdd734848c6baa0adb13dd8a5752f177             CE                  230440   \n5  2cd69478b035ca1501377191fb7a9ff1             CE                  230428   \n\n  municipioPaciente sexoPaciente idadePaciente               dataNotificacao  \\\n0         FORTALEZA     FEMININO            37  2020-03-01T03:00:00.000+0000   \n1         FORTALEZA     FEMININO             0  2020-03-01T03:00:00.000+0000   \n2         FORTALEZA     FEMININO            31  2020-03-01T03:00:00.000+0000   \n3         FORTALEZA     FEMININO            27  2020-03-01T03:00:00.000+0000   \n4         FORTALEZA    MASCULINO             2  2020-03-01T03:00:00.000+0000   \n5           EUSEBIO     FEMININO            30  2020-03-01T03:00:00.000+0000   \n\n             dataInicioSintomas               dataColetaExame  \\\n0  2020-02-28T03:00:00.000+0000                           NaN   \n1  2020-04-28T03:00:00.000+0000                           NaN   \n2  2020-02-28T03:00:00.000+0000  2020-03-01T03:00:00.000+0000   \n3  2020-02-29T03:00:00.000+0000                           NaN   \n4  2020-02-23T03:00:00.000+0000                           NaN   \n5  2020-02-25T03:00:00.000+0000                           NaN   \n\n           dataSolicitacaoExame resultadoFinalExame paisPaciente  \\\n0                           NaN                 NaN          NaN   \n1                           NaN                 NaN          NaN   \n2  2020-03-02T03:00:00.000+0000            Negativo          NaN   \n3                           NaN                 NaN          NaN   \n4                           NaN                 NaN       BRASIL   \n5                           NaN                 NaN          NaN   \n\n   bairroPaciente  \n0             NaN  \n1             NaN  \n2             NaN  \n3             NaN  \n4  JARDIM IRACEMA  \n5             NaN  ",
      "text/html": "<div>\n<style scoped>\n    .dataframe tbody tr th:only-of-type {\n        vertical-align: middle;\n    }\n\n    .dataframe tbody tr th {\n        vertical-align: top;\n    }\n\n    .dataframe thead th {\n        text-align: right;\n    }\n</style>\n<table border=\"1\" class=\"dataframe\">\n  <thead>\n    <tr style=\"text-align: right;\">\n      <th></th>\n      <th>codigoPaciente</th>\n      <th>estadoPaciente</th>\n      <th>codigoMunicipioPaciente</th>\n      <th>municipioPaciente</th>\n      <th>sexoPaciente</th>\n      <th>idadePaciente</th>\n      <th>dataNotificacao</th>\n      <th>dataInicioSintomas</th>\n      <th>dataColetaExame</th>\n      <th>dataSolicitacaoExame</th>\n      <th>resultadoFinalExame</th>\n      <th>paisPaciente</th>\n      <th>bairroPaciente</th>\n    </tr>\n  </thead>\n  <tbody>\n    <tr>\n      <th>0</th>\n      <td>417921f82efaa5e532b45c2f56d0d666</td>\n      <td>CE</td>\n      <td>230440</td>\n      <td>FORTALEZA</td>\n      <td>FEMININO</td>\n      <td>37</td>\n      <td>2020-03-01T03:00:00.000+0000</td>\n      <td>2020-02-28T03:00:00.000+0000</td>\n      <td>NaN</td>\n      <td>NaN</td>\n      <td>NaN</td>\n      <td>NaN</td>\n      <td>NaN</td>\n    </tr>\n    <tr>\n      <th>1</th>\n      <td>3cba1f1d4fe587113a67ab10c743123e</td>\n      <td>CE</td>\n      <td>230440</td>\n      <td>FORTALEZA</td>\n      <td>FEMININO</td>\n      <td>0</td>\n      <td>2020-03-01T03:00:00.000+0000</td>\n      <td>2020-04-28T03:00:00.000+0000</td>\n      <td>NaN</td>\n      <td>NaN</td>\n      <td>NaN</td>\n      <td>NaN</td>\n      <td>NaN</td>\n    </tr>\n    <tr>\n      <th>2</th>\n      <td>e06c6e51a686528cf87a9aec8cdd4293</td>\n      <td>CE</td>\n      <td>230440</td>\n      <td>FORTALEZA</td>\n      <td>FEMININO</td>\n      <td>31</td>\n      <td>2020-03-01T03:00:00.000+0000</td>\n      <td>2020-02-28T03:00:00.000+0000</td>\n      <td>2020-03-01T03:00:00.000+0000</td>\n      <td>2020-03-02T03:00:00.000+0000</td>\n      <td>Negativo</td>\n      <td>NaN</td>\n      <td>NaN</td>\n    </tr>\n    <tr>\n      <th>3</th>\n      <td>696e1acd2b5af47f980ed826c50062f5</td>\n      <td>CE</td>\n      <td>230440</td>\n      <td>FORTALEZA</td>\n      <td>FEMININO</td>\n      <td>27</td>\n      <td>2020-03-01T03:00:00.000+0000</td>\n      <td>2020-02-29T03:00:00.000+0000</td>\n      <td>NaN</td>\n      <td>NaN</td>\n      <td>NaN</td>\n      <td>NaN</td>\n      <td>NaN</td>\n    </tr>\n    <tr>\n      <th>4</th>\n      <td>bdd734848c6baa0adb13dd8a5752f177</td>\n      <td>CE</td>\n      <td>230440</td>\n      <td>FORTALEZA</td>\n      <td>MASCULINO</td>\n      <td>2</td>\n      <td>2020-03-01T03:00:00.000+0000</td>\n      <td>2020-02-23T03:00:00.000+0000</td>\n      <td>NaN</td>\n      <td>NaN</td>\n      <td>NaN</td>\n      <td>BRASIL</td>\n      <td>JARDIM IRACEMA</td>\n    </tr>\n    <tr>\n      <th>5</th>\n      <td>2cd69478b035ca1501377191fb7a9ff1</td>\n      <td>CE</td>\n      <td>230428</td>\n      <td>EUSEBIO</td>\n      <td>FEMININO</td>\n      <td>30</td>\n      <td>2020-03-01T03:00:00.000+0000</td>\n      <td>2020-02-25T03:00:00.000+0000</td>\n      <td>NaN</td>\n      <td>NaN</td>\n      <td>NaN</td>\n      <td>NaN</td>\n      <td>NaN</td>\n    </tr>\n  </tbody>\n</table>\n</div>"
     },
     "metadata": {},
     "execution_count": 40
    }
   ],
   "source": [
    "cases_covid"
   ]
  },
  {
   "cell_type": "code",
   "execution_count": null,
   "metadata": {},
   "outputs": [],
   "source": []
  }
 ],
 "metadata": {
  "language_info": {
   "codemirror_mode": {
    "name": "ipython",
    "version": 3
   },
   "file_extension": ".py",
   "mimetype": "text/x-python",
   "name": "python",
   "nbconvert_exporter": "python",
   "pygments_lexer": "ipython3",
   "version": "3.7.6-final"
  },
  "orig_nbformat": 2,
  "kernelspec": {
   "name": "python37364bitbasecondabf60750d4ace4701b72d66be8319987b",
   "display_name": "Python 3.7.3 64-bit ('base': conda)"
  }
 },
 "nbformat": 4,
 "nbformat_minor": 2
}