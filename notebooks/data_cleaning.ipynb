{
 "cells": [
  {
   "cell_type": "code",
   "execution_count": 4,
   "metadata": {},
   "outputs": [],
   "source": [
    "import numpy as np\n",
    "import pandas as pd \n",
    "import requests"
   ]
  },
  {
   "cell_type": "code",
   "execution_count": 5,
   "metadata": {},
   "outputs": [],
   "source": [
    "response = requests.get(\"https://indicadores.integrasus.saude.ce.gov.br/api/casos-coronavirus?dataInicio=2020-01-01&dataFim=2020-06-15\")\n",
    "json = response.json()"
   ]
  },
  {
   "cell_type": "code",
   "execution_count": 6,
   "metadata": {},
   "outputs": [],
   "source": [
    "if response.status_code == 200:\n",
    "    cases_covid = pd.DataFrame(json)"
   ]
  },
  {
   "cell_type": "code",
   "execution_count": 7,
   "metadata": {},
   "outputs": [
    {
     "output_type": "execute_result",
     "data": {
      "text/plain": "                          codigoPaciente estadoPaciente  \\\n0       601b1a91127c8a328aa7c99e09c3ebf7             CE   \n1       19d83bb6aa77440247f43abeca1c0272             CE   \n2       647e24e07b9210a5bb8d49a30f45a04f             CE   \n3       7b9535aedf273531d605b689cc3ef801             CE   \n4       58062ee3930dd30c9edecb1085a73f40             CE   \n...                                  ...            ...   \n226537  7b054499c03cf0a5975eee87e3ae7aaf             CE   \n226538  50acc05104cc543b64025eb4b96f6862             CE   \n226539  3259755c9fff6f31a7118e8023bcb581             CE   \n226540  a07dd057a9cd19796588b6f7f036a22e             CE   \n226541  d641dd8583642cf7cd9d139cd2282c49             CE   \n\n       codigoMunicipioPaciente municipioPaciente      bairroPaciente  \\\n0                       230440         FORTALEZA           SAPIRANGA   \n1                       230440         FORTALEZA      HENRIQUE JORGE   \n2                       230440         FORTALEZA           PARANGABA   \n3                       230440         FORTALEZA            MEIRELES   \n4                       230440         FORTALEZA           PARANGABA   \n...                        ...               ...                 ...   \n226537                  230440         FORTALEZA              PAPICU   \n226538                  230440         FORTALEZA      PARQUE IRACEMA   \n226539                  230440         FORTALEZA  VILA MANUEL SATIRO   \n226540                  230440         FORTALEZA           MESSEJANA   \n226541                  230440         FORTALEZA     DIONISIO TORRES   \n\n       sexoPaciente idadePaciente               dataNotificacao  \\\n0         MASCULINO            33  2020-06-01T03:00:00.000+0000   \n1          FEMININO            32  2020-05-16T03:00:00.000+0000   \n2         MASCULINO            45  2020-05-28T03:00:00.000+0000   \n3         MASCULINO            49  2020-05-19T03:00:00.000+0000   \n4         MASCULINO            34  2020-05-26T03:00:00.000+0000   \n...             ...           ...                           ...   \n226537     FEMININO            38  2020-04-17T03:00:00.000+0000   \n226538    MASCULINO            44  2020-05-22T03:00:00.000+0000   \n226539    MASCULINO            42  2020-06-13T03:00:00.000+0000   \n226540     FEMININO            44  2020-04-24T03:00:00.000+0000   \n226541    MASCULINO            59  2020-05-29T03:00:00.000+0000   \n\n                     dataColetaExame            dataResultadoExame  \\\n0       2020-06-01T03:00:00.000+0000  2020-06-01T03:00:00.000+0000   \n1       2020-05-16T03:00:00.000+0000  2020-05-16T03:00:00.000+0000   \n2       2020-05-25T03:00:00.000+0000  2020-05-25T03:00:00.000+0000   \n3       2020-04-23T03:00:00.000+0000  2020-04-23T03:00:00.000+0000   \n4       2020-05-21T03:00:00.000+0000  2020-05-21T03:00:00.000+0000   \n...                              ...                           ...   \n226537  2020-04-11T03:00:00.000+0000  2020-04-11T03:00:00.000+0000   \n226538  2020-05-19T03:00:00.000+0000  2020-05-19T03:00:00.000+0000   \n226539  2020-06-13T03:00:00.000+0000  2020-06-13T03:00:00.000+0000   \n226540  2020-04-30T03:00:00.000+0000  2020-04-30T03:00:00.000+0000   \n226541  2020-05-18T03:00:00.000+0000  2020-05-18T03:00:00.000+0000   \n\n       resultadoFinalExame            dataInicioSintomas paisPaciente  \\\n0                 Negativo  2020-04-19T03:00:00.000+0000          NaN   \n1                 Negativo  2020-05-09T03:00:00.000+0000          NaN   \n2                 Negativo  2020-04-26T03:00:00.000+0000          NaN   \n3                 Negativo  2020-03-18T03:00:00.000+0000          NaN   \n4                 Negativo  2020-05-15T03:00:00.000+0000          NaN   \n...                    ...                           ...          ...   \n226537            Negativo  2020-04-11T03:00:00.000+0000          NaN   \n226538            Negativo  2020-05-15T03:00:00.000+0000          NaN   \n226539            Negativo  2020-06-13T03:00:00.000+0000          NaN   \n226540            Positivo  2020-04-18T03:00:00.000+0000          NaN   \n226541            Negativo  2020-05-18T03:00:00.000+0000          NaN   \n\n       obitoConfirmado dataObito dataSolicitacaoExame  \n0                  NaN       NaN                  NaN  \n1                  NaN       NaN                  NaN  \n2                  NaN       NaN                  NaN  \n3                  NaN       NaN                  NaN  \n4                  NaN       NaN                  NaN  \n...                ...       ...                  ...  \n226537             NaN       NaN                  NaN  \n226538             NaN       NaN                  NaN  \n226539             NaN       NaN                  NaN  \n226540             NaN       NaN                  NaN  \n226541             NaN       NaN                  NaN  \n\n[226542 rows x 16 columns]",
      "text/html": "<div>\n<style scoped>\n    .dataframe tbody tr th:only-of-type {\n        vertical-align: middle;\n    }\n\n    .dataframe tbody tr th {\n        vertical-align: top;\n    }\n\n    .dataframe thead th {\n        text-align: right;\n    }\n</style>\n<table border=\"1\" class=\"dataframe\">\n  <thead>\n    <tr style=\"text-align: right;\">\n      <th></th>\n      <th>codigoPaciente</th>\n      <th>estadoPaciente</th>\n      <th>codigoMunicipioPaciente</th>\n      <th>municipioPaciente</th>\n      <th>bairroPaciente</th>\n      <th>sexoPaciente</th>\n      <th>idadePaciente</th>\n      <th>dataNotificacao</th>\n      <th>dataColetaExame</th>\n      <th>dataResultadoExame</th>\n      <th>resultadoFinalExame</th>\n      <th>dataInicioSintomas</th>\n      <th>paisPaciente</th>\n      <th>obitoConfirmado</th>\n      <th>dataObito</th>\n      <th>dataSolicitacaoExame</th>\n    </tr>\n  </thead>\n  <tbody>\n    <tr>\n      <th>0</th>\n      <td>601b1a91127c8a328aa7c99e09c3ebf7</td>\n      <td>CE</td>\n      <td>230440</td>\n      <td>FORTALEZA</td>\n      <td>SAPIRANGA</td>\n      <td>MASCULINO</td>\n      <td>33</td>\n      <td>2020-06-01T03:00:00.000+0000</td>\n      <td>2020-06-01T03:00:00.000+0000</td>\n      <td>2020-06-01T03:00:00.000+0000</td>\n      <td>Negativo</td>\n      <td>2020-04-19T03:00:00.000+0000</td>\n      <td>NaN</td>\n      <td>NaN</td>\n      <td>NaN</td>\n      <td>NaN</td>\n    </tr>\n    <tr>\n      <th>1</th>\n      <td>19d83bb6aa77440247f43abeca1c0272</td>\n      <td>CE</td>\n      <td>230440</td>\n      <td>FORTALEZA</td>\n      <td>HENRIQUE JORGE</td>\n      <td>FEMININO</td>\n      <td>32</td>\n      <td>2020-05-16T03:00:00.000+0000</td>\n      <td>2020-05-16T03:00:00.000+0000</td>\n      <td>2020-05-16T03:00:00.000+0000</td>\n      <td>Negativo</td>\n      <td>2020-05-09T03:00:00.000+0000</td>\n      <td>NaN</td>\n      <td>NaN</td>\n      <td>NaN</td>\n      <td>NaN</td>\n    </tr>\n    <tr>\n      <th>2</th>\n      <td>647e24e07b9210a5bb8d49a30f45a04f</td>\n      <td>CE</td>\n      <td>230440</td>\n      <td>FORTALEZA</td>\n      <td>PARANGABA</td>\n      <td>MASCULINO</td>\n      <td>45</td>\n      <td>2020-05-28T03:00:00.000+0000</td>\n      <td>2020-05-25T03:00:00.000+0000</td>\n      <td>2020-05-25T03:00:00.000+0000</td>\n      <td>Negativo</td>\n      <td>2020-04-26T03:00:00.000+0000</td>\n      <td>NaN</td>\n      <td>NaN</td>\n      <td>NaN</td>\n      <td>NaN</td>\n    </tr>\n    <tr>\n      <th>3</th>\n      <td>7b9535aedf273531d605b689cc3ef801</td>\n      <td>CE</td>\n      <td>230440</td>\n      <td>FORTALEZA</td>\n      <td>MEIRELES</td>\n      <td>MASCULINO</td>\n      <td>49</td>\n      <td>2020-05-19T03:00:00.000+0000</td>\n      <td>2020-04-23T03:00:00.000+0000</td>\n      <td>2020-04-23T03:00:00.000+0000</td>\n      <td>Negativo</td>\n      <td>2020-03-18T03:00:00.000+0000</td>\n      <td>NaN</td>\n      <td>NaN</td>\n      <td>NaN</td>\n      <td>NaN</td>\n    </tr>\n    <tr>\n      <th>4</th>\n      <td>58062ee3930dd30c9edecb1085a73f40</td>\n      <td>CE</td>\n      <td>230440</td>\n      <td>FORTALEZA</td>\n      <td>PARANGABA</td>\n      <td>MASCULINO</td>\n      <td>34</td>\n      <td>2020-05-26T03:00:00.000+0000</td>\n      <td>2020-05-21T03:00:00.000+0000</td>\n      <td>2020-05-21T03:00:00.000+0000</td>\n      <td>Negativo</td>\n      <td>2020-05-15T03:00:00.000+0000</td>\n      <td>NaN</td>\n      <td>NaN</td>\n      <td>NaN</td>\n      <td>NaN</td>\n    </tr>\n    <tr>\n      <th>...</th>\n      <td>...</td>\n      <td>...</td>\n      <td>...</td>\n      <td>...</td>\n      <td>...</td>\n      <td>...</td>\n      <td>...</td>\n      <td>...</td>\n      <td>...</td>\n      <td>...</td>\n      <td>...</td>\n      <td>...</td>\n      <td>...</td>\n      <td>...</td>\n      <td>...</td>\n      <td>...</td>\n    </tr>\n    <tr>\n      <th>226537</th>\n      <td>7b054499c03cf0a5975eee87e3ae7aaf</td>\n      <td>CE</td>\n      <td>230440</td>\n      <td>FORTALEZA</td>\n      <td>PAPICU</td>\n      <td>FEMININO</td>\n      <td>38</td>\n      <td>2020-04-17T03:00:00.000+0000</td>\n      <td>2020-04-11T03:00:00.000+0000</td>\n      <td>2020-04-11T03:00:00.000+0000</td>\n      <td>Negativo</td>\n      <td>2020-04-11T03:00:00.000+0000</td>\n      <td>NaN</td>\n      <td>NaN</td>\n      <td>NaN</td>\n      <td>NaN</td>\n    </tr>\n    <tr>\n      <th>226538</th>\n      <td>50acc05104cc543b64025eb4b96f6862</td>\n      <td>CE</td>\n      <td>230440</td>\n      <td>FORTALEZA</td>\n      <td>PARQUE IRACEMA</td>\n      <td>MASCULINO</td>\n      <td>44</td>\n      <td>2020-05-22T03:00:00.000+0000</td>\n      <td>2020-05-19T03:00:00.000+0000</td>\n      <td>2020-05-19T03:00:00.000+0000</td>\n      <td>Negativo</td>\n      <td>2020-05-15T03:00:00.000+0000</td>\n      <td>NaN</td>\n      <td>NaN</td>\n      <td>NaN</td>\n      <td>NaN</td>\n    </tr>\n    <tr>\n      <th>226539</th>\n      <td>3259755c9fff6f31a7118e8023bcb581</td>\n      <td>CE</td>\n      <td>230440</td>\n      <td>FORTALEZA</td>\n      <td>VILA MANUEL SATIRO</td>\n      <td>MASCULINO</td>\n      <td>42</td>\n      <td>2020-06-13T03:00:00.000+0000</td>\n      <td>2020-06-13T03:00:00.000+0000</td>\n      <td>2020-06-13T03:00:00.000+0000</td>\n      <td>Negativo</td>\n      <td>2020-06-13T03:00:00.000+0000</td>\n      <td>NaN</td>\n      <td>NaN</td>\n      <td>NaN</td>\n      <td>NaN</td>\n    </tr>\n    <tr>\n      <th>226540</th>\n      <td>a07dd057a9cd19796588b6f7f036a22e</td>\n      <td>CE</td>\n      <td>230440</td>\n      <td>FORTALEZA</td>\n      <td>MESSEJANA</td>\n      <td>FEMININO</td>\n      <td>44</td>\n      <td>2020-04-24T03:00:00.000+0000</td>\n      <td>2020-04-30T03:00:00.000+0000</td>\n      <td>2020-04-30T03:00:00.000+0000</td>\n      <td>Positivo</td>\n      <td>2020-04-18T03:00:00.000+0000</td>\n      <td>NaN</td>\n      <td>NaN</td>\n      <td>NaN</td>\n      <td>NaN</td>\n    </tr>\n    <tr>\n      <th>226541</th>\n      <td>d641dd8583642cf7cd9d139cd2282c49</td>\n      <td>CE</td>\n      <td>230440</td>\n      <td>FORTALEZA</td>\n      <td>DIONISIO TORRES</td>\n      <td>MASCULINO</td>\n      <td>59</td>\n      <td>2020-05-29T03:00:00.000+0000</td>\n      <td>2020-05-18T03:00:00.000+0000</td>\n      <td>2020-05-18T03:00:00.000+0000</td>\n      <td>Negativo</td>\n      <td>2020-05-18T03:00:00.000+0000</td>\n      <td>NaN</td>\n      <td>NaN</td>\n      <td>NaN</td>\n      <td>NaN</td>\n    </tr>\n  </tbody>\n</table>\n<p>226542 rows × 16 columns</p>\n</div>"
     },
     "metadata": {},
     "execution_count": 7
    }
   ],
   "source": [
    "cases_covid"
   ]
  },
  {
   "cell_type": "code",
   "execution_count": 8,
   "metadata": {},
   "outputs": [
    {
     "output_type": "execute_result",
     "data": {
      "text/plain": "bairroPaciente\n(83) 99617-1113       1\n, GRANJA PORTUGAL     1\n-                    14\n- ALVARO WEYNE        1\n- DIONISIO TORRES     1\n                     ..\nÁLVARO  WEYNE         1\nÁLVARO ENY            1\nÁLVARO WAYNE          1\nÁLVARO WEYNE         27\nÑ                     1\nLength: 3353, dtype: int64"
     },
     "metadata": {},
     "execution_count": 8
    }
   ],
   "source": [
    "nomes_bairro_raw = cases_covid[cases_covid['municipioPaciente'] == 'FORTALEZA'].groupby('bairroPaciente').size()\n",
    "nomes_bairro_raw"
   ]
  },
  {
   "cell_type": "code",
   "execution_count": 9,
   "metadata": {},
   "outputs": [
    {
     "output_type": "execute_result",
     "data": {
      "text/plain": "11628"
     },
     "metadata": {},
     "execution_count": 9
    }
   ],
   "source": [
    "len(cases_covid['bairroPaciente'].unique())\n",
    "\n"
   ]
  },
  {
   "cell_type": "code",
   "execution_count": 10,
   "metadata": {},
   "outputs": [],
   "source": [
    "# Oficial data with names of neighborhoods\n",
    "bairros = pd.read_csv('http://dados.fortaleza.ce.gov.br/dataset/8d20208f-25d6-4ca3-b0bc-1b9b371bd062/resource/3ba368fe-d585-4681-a987-6e288bdfffe0/download/limitebairro.csv')"
   ]
  },
  {
   "cell_type": "code",
   "execution_count": 11,
   "metadata": {},
   "outputs": [
    {
     "output_type": "execute_result",
     "data": {
      "text/plain": "0                    PASSARE\n1              CAIS DO PORTO\n2                CIDADE 2000\n3            ALTO DA BALANCA\n4             BARRA DO CEARA\n5               MOURA BRASIL\n6                 CAJAZEIRAS\n7                     PEDRAS\n8                    PAUPINA\n9                 SABIAGUABA\n10             EDSON QUEIROZ\n11                   ITAPERI\n12                  MEIRELES\n13      PREFEITO JOSE VALTER\n14        PRAIA DO FUTURO II\n15                   VARJOTA\n16           CRISTO REDENTOR\n17                  FLORESTA\n18                VILA VELHA\n19            JARDIM IRACEMA\n20              ALVARO WEYNE\n21          JARDIM GUANABARA\n22            AMADEU FURTADO\n23                   PIRAMBU\n24              AUTRAN NUNES\n25            JARDIM AMERICA\n26               JACARECANGA\n27              PARQUE ARAXA\n28           RODOLFO TEOFILO\n29            PARQUE IRACEMA\n30              FARIAS BRITO\n31           SAPIRANGA COITE\n32            HENRIQUE JORGE\n33            QUINTINO CUNHA\n34                 SAO BENTO\n35                DE LOURDES\n36                JANGURUSSU\n37                   ALDEOTA\n38    ENG LUCIANO CAVALCANTE\n39          CARLITO PAMPLONA\n40            JOSE BONIFACIO\n41        CONJUNTO ESPERANCA\n42           JOSE DE ALENCAR\n43      JARDIM DAS OLIVEIRAS\n44               GENTILANDIA\n45                   BARROSO\n46           PARQUE MANIBURA\n47               DIAS MACEDO\n48                  SERRINHA\n49                   MONTESE\nName: NOME, dtype: object"
     },
     "metadata": {},
     "execution_count": 11
    }
   ],
   "source": [
    "bairros['NOME'].head(50)"
   ]
  },
  {
   "cell_type": "code",
   "execution_count": 12,
   "metadata": {},
   "outputs": [],
   "source": [
    "from unicodedata import normalize"
   ]
  },
  {
   "cell_type": "code",
   "execution_count": 13,
   "metadata": {},
   "outputs": [],
   "source": [
    "def remove_accents(txt):\n",
    "    return normalize('NFKD', txt).encode('ASCII', 'ignore').decode('ASCII')"
   ]
  },
  {
   "cell_type": "code",
   "execution_count": 14,
   "metadata": {},
   "outputs": [
    {
     "output_type": "stream",
     "name": "stdout",
     "text": "1ª ETAPA - CONJUNTO CEARÁ\n1a ETAPA - CONJUNTO CEARA\n"
    }
   ],
   "source": [
    "txt = '1ª ETAPA - CONJUNTO CEARÁ'\n",
    "print(txt)\n",
    "print(remove_accents(txt))"
   ]
  },
  {
   "cell_type": "code",
   "execution_count": 15,
   "metadata": {},
   "outputs": [
    {
     "output_type": "stream",
     "name": "stdout",
     "text": "CAIS DO PORTO\n"
    }
   ],
   "source": [
    "teste = '   CAIS DO PORTO        '\n",
    "print(teste.strip())"
   ]
  },
  {
   "cell_type": "code",
   "execution_count": 16,
   "metadata": {},
   "outputs": [],
   "source": [
    "from Levenshtein import distance"
   ]
  },
  {
   "cell_type": "code",
   "execution_count": 17,
   "metadata": {},
   "outputs": [
    {
     "output_type": "execute_result",
     "data": {
      "text/plain": "2"
     },
     "metadata": {},
     "execution_count": 17
    }
   ],
   "source": [
    "distance('ALVARO WEYNE', '- ALVARO WEYNE')"
   ]
  },
  {
   "cell_type": "code",
   "execution_count": 18,
   "metadata": {},
   "outputs": [],
   "source": [
    "def remove_special_characters(text):\n",
    "    a_string = text\n",
    "    alphanumeric = \"\"\n",
    "\n",
    "    for character in a_string:\n",
    "        if character == \" \":\n",
    "            alphanumeric += character\n",
    "        else:\n",
    "            if character.isalnum():\n",
    "                alphanumeric += character\n",
    "\n",
    "\n",
    "    return alphanumeric"
   ]
  },
  {
   "cell_type": "code",
   "execution_count": 19,
   "metadata": {},
   "outputs": [
    {
     "output_type": "execute_result",
     "data": {
      "text/plain": "'abc  123'"
     },
     "metadata": {},
     "execution_count": 19
    }
   ],
   "source": [
    "remove_special_characters('abc !? 123')"
   ]
  },
  {
   "cell_type": "code",
   "execution_count": 20,
   "metadata": {},
   "outputs": [
    {
     "output_type": "stream",
     "name": "stdout",
     "text": "abc  123\n"
    }
   ],
   "source": [
    "print('abc  123'.strip())"
   ]
  },
  {
   "cell_type": "code",
   "execution_count": 21,
   "metadata": {},
   "outputs": [
    {
     "output_type": "stream",
     "name": "stdout",
     "text": "abc !? 123\n"
    }
   ],
   "source": [
    "print(remove_accents('abc !? 123'))"
   ]
  },
  {
   "cell_type": "code",
   "execution_count": 64,
   "metadata": {},
   "outputs": [],
   "source": [
    "def clean_neighborhood_names(text):\n",
    "    no_special_characters = remove_special_characters(text)\n",
    "    trim_spaces = no_special_characters.strip()\n",
    "    cleaned_neighborhood_names = remove_accents(trim_spaces)\n",
    "\n",
    "    return cleaned_neighborhood_names"
   ]
  },
  {
   "cell_type": "code",
   "execution_count": 23,
   "metadata": {},
   "outputs": [
    {
     "output_type": "execute_result",
     "data": {
      "text/plain": "                          codigoPaciente estadoPaciente  \\\n0       601b1a91127c8a328aa7c99e09c3ebf7             CE   \n1       19d83bb6aa77440247f43abeca1c0272             CE   \n2       647e24e07b9210a5bb8d49a30f45a04f             CE   \n3       7b9535aedf273531d605b689cc3ef801             CE   \n4       58062ee3930dd30c9edecb1085a73f40             CE   \n...                                  ...            ...   \n226537  7b054499c03cf0a5975eee87e3ae7aaf             CE   \n226538  50acc05104cc543b64025eb4b96f6862             CE   \n226539  3259755c9fff6f31a7118e8023bcb581             CE   \n226540  a07dd057a9cd19796588b6f7f036a22e             CE   \n226541  d641dd8583642cf7cd9d139cd2282c49             CE   \n\n       codigoMunicipioPaciente municipioPaciente      bairroPaciente  \\\n0                       230440         FORTALEZA           SAPIRANGA   \n1                       230440         FORTALEZA      HENRIQUE JORGE   \n2                       230440         FORTALEZA           PARANGABA   \n3                       230440         FORTALEZA            MEIRELES   \n4                       230440         FORTALEZA           PARANGABA   \n...                        ...               ...                 ...   \n226537                  230440         FORTALEZA              PAPICU   \n226538                  230440         FORTALEZA      PARQUE IRACEMA   \n226539                  230440         FORTALEZA  VILA MANUEL SATIRO   \n226540                  230440         FORTALEZA           MESSEJANA   \n226541                  230440         FORTALEZA     DIONISIO TORRES   \n\n       sexoPaciente idadePaciente               dataNotificacao  \\\n0         MASCULINO            33  2020-06-01T03:00:00.000+0000   \n1          FEMININO            32  2020-05-16T03:00:00.000+0000   \n2         MASCULINO            45  2020-05-28T03:00:00.000+0000   \n3         MASCULINO            49  2020-05-19T03:00:00.000+0000   \n4         MASCULINO            34  2020-05-26T03:00:00.000+0000   \n...             ...           ...                           ...   \n226537     FEMININO            38  2020-04-17T03:00:00.000+0000   \n226538    MASCULINO            44  2020-05-22T03:00:00.000+0000   \n226539    MASCULINO            42  2020-06-13T03:00:00.000+0000   \n226540     FEMININO            44  2020-04-24T03:00:00.000+0000   \n226541    MASCULINO            59  2020-05-29T03:00:00.000+0000   \n\n                     dataColetaExame            dataResultadoExame  \\\n0       2020-06-01T03:00:00.000+0000  2020-06-01T03:00:00.000+0000   \n1       2020-05-16T03:00:00.000+0000  2020-05-16T03:00:00.000+0000   \n2       2020-05-25T03:00:00.000+0000  2020-05-25T03:00:00.000+0000   \n3       2020-04-23T03:00:00.000+0000  2020-04-23T03:00:00.000+0000   \n4       2020-05-21T03:00:00.000+0000  2020-05-21T03:00:00.000+0000   \n...                              ...                           ...   \n226537  2020-04-11T03:00:00.000+0000  2020-04-11T03:00:00.000+0000   \n226538  2020-05-19T03:00:00.000+0000  2020-05-19T03:00:00.000+0000   \n226539  2020-06-13T03:00:00.000+0000  2020-06-13T03:00:00.000+0000   \n226540  2020-04-30T03:00:00.000+0000  2020-04-30T03:00:00.000+0000   \n226541  2020-05-18T03:00:00.000+0000  2020-05-18T03:00:00.000+0000   \n\n       resultadoFinalExame            dataInicioSintomas paisPaciente  \\\n0                 Negativo  2020-04-19T03:00:00.000+0000          NaN   \n1                 Negativo  2020-05-09T03:00:00.000+0000          NaN   \n2                 Negativo  2020-04-26T03:00:00.000+0000          NaN   \n3                 Negativo  2020-03-18T03:00:00.000+0000          NaN   \n4                 Negativo  2020-05-15T03:00:00.000+0000          NaN   \n...                    ...                           ...          ...   \n226537            Negativo  2020-04-11T03:00:00.000+0000          NaN   \n226538            Negativo  2020-05-15T03:00:00.000+0000          NaN   \n226539            Negativo  2020-06-13T03:00:00.000+0000          NaN   \n226540            Positivo  2020-04-18T03:00:00.000+0000          NaN   \n226541            Negativo  2020-05-18T03:00:00.000+0000          NaN   \n\n       obitoConfirmado dataObito dataSolicitacaoExame  \n0                  NaN       NaN                  NaN  \n1                  NaN       NaN                  NaN  \n2                  NaN       NaN                  NaN  \n3                  NaN       NaN                  NaN  \n4                  NaN       NaN                  NaN  \n...                ...       ...                  ...  \n226537             NaN       NaN                  NaN  \n226538             NaN       NaN                  NaN  \n226539             NaN       NaN                  NaN  \n226540             NaN       NaN                  NaN  \n226541             NaN       NaN                  NaN  \n\n[86582 rows x 16 columns]",
      "text/html": "<div>\n<style scoped>\n    .dataframe tbody tr th:only-of-type {\n        vertical-align: middle;\n    }\n\n    .dataframe tbody tr th {\n        vertical-align: top;\n    }\n\n    .dataframe thead th {\n        text-align: right;\n    }\n</style>\n<table border=\"1\" class=\"dataframe\">\n  <thead>\n    <tr style=\"text-align: right;\">\n      <th></th>\n      <th>codigoPaciente</th>\n      <th>estadoPaciente</th>\n      <th>codigoMunicipioPaciente</th>\n      <th>municipioPaciente</th>\n      <th>bairroPaciente</th>\n      <th>sexoPaciente</th>\n      <th>idadePaciente</th>\n      <th>dataNotificacao</th>\n      <th>dataColetaExame</th>\n      <th>dataResultadoExame</th>\n      <th>resultadoFinalExame</th>\n      <th>dataInicioSintomas</th>\n      <th>paisPaciente</th>\n      <th>obitoConfirmado</th>\n      <th>dataObito</th>\n      <th>dataSolicitacaoExame</th>\n    </tr>\n  </thead>\n  <tbody>\n    <tr>\n      <th>0</th>\n      <td>601b1a91127c8a328aa7c99e09c3ebf7</td>\n      <td>CE</td>\n      <td>230440</td>\n      <td>FORTALEZA</td>\n      <td>SAPIRANGA</td>\n      <td>MASCULINO</td>\n      <td>33</td>\n      <td>2020-06-01T03:00:00.000+0000</td>\n      <td>2020-06-01T03:00:00.000+0000</td>\n      <td>2020-06-01T03:00:00.000+0000</td>\n      <td>Negativo</td>\n      <td>2020-04-19T03:00:00.000+0000</td>\n      <td>NaN</td>\n      <td>NaN</td>\n      <td>NaN</td>\n      <td>NaN</td>\n    </tr>\n    <tr>\n      <th>1</th>\n      <td>19d83bb6aa77440247f43abeca1c0272</td>\n      <td>CE</td>\n      <td>230440</td>\n      <td>FORTALEZA</td>\n      <td>HENRIQUE JORGE</td>\n      <td>FEMININO</td>\n      <td>32</td>\n      <td>2020-05-16T03:00:00.000+0000</td>\n      <td>2020-05-16T03:00:00.000+0000</td>\n      <td>2020-05-16T03:00:00.000+0000</td>\n      <td>Negativo</td>\n      <td>2020-05-09T03:00:00.000+0000</td>\n      <td>NaN</td>\n      <td>NaN</td>\n      <td>NaN</td>\n      <td>NaN</td>\n    </tr>\n    <tr>\n      <th>2</th>\n      <td>647e24e07b9210a5bb8d49a30f45a04f</td>\n      <td>CE</td>\n      <td>230440</td>\n      <td>FORTALEZA</td>\n      <td>PARANGABA</td>\n      <td>MASCULINO</td>\n      <td>45</td>\n      <td>2020-05-28T03:00:00.000+0000</td>\n      <td>2020-05-25T03:00:00.000+0000</td>\n      <td>2020-05-25T03:00:00.000+0000</td>\n      <td>Negativo</td>\n      <td>2020-04-26T03:00:00.000+0000</td>\n      <td>NaN</td>\n      <td>NaN</td>\n      <td>NaN</td>\n      <td>NaN</td>\n    </tr>\n    <tr>\n      <th>3</th>\n      <td>7b9535aedf273531d605b689cc3ef801</td>\n      <td>CE</td>\n      <td>230440</td>\n      <td>FORTALEZA</td>\n      <td>MEIRELES</td>\n      <td>MASCULINO</td>\n      <td>49</td>\n      <td>2020-05-19T03:00:00.000+0000</td>\n      <td>2020-04-23T03:00:00.000+0000</td>\n      <td>2020-04-23T03:00:00.000+0000</td>\n      <td>Negativo</td>\n      <td>2020-03-18T03:00:00.000+0000</td>\n      <td>NaN</td>\n      <td>NaN</td>\n      <td>NaN</td>\n      <td>NaN</td>\n    </tr>\n    <tr>\n      <th>4</th>\n      <td>58062ee3930dd30c9edecb1085a73f40</td>\n      <td>CE</td>\n      <td>230440</td>\n      <td>FORTALEZA</td>\n      <td>PARANGABA</td>\n      <td>MASCULINO</td>\n      <td>34</td>\n      <td>2020-05-26T03:00:00.000+0000</td>\n      <td>2020-05-21T03:00:00.000+0000</td>\n      <td>2020-05-21T03:00:00.000+0000</td>\n      <td>Negativo</td>\n      <td>2020-05-15T03:00:00.000+0000</td>\n      <td>NaN</td>\n      <td>NaN</td>\n      <td>NaN</td>\n      <td>NaN</td>\n    </tr>\n    <tr>\n      <th>...</th>\n      <td>...</td>\n      <td>...</td>\n      <td>...</td>\n      <td>...</td>\n      <td>...</td>\n      <td>...</td>\n      <td>...</td>\n      <td>...</td>\n      <td>...</td>\n      <td>...</td>\n      <td>...</td>\n      <td>...</td>\n      <td>...</td>\n      <td>...</td>\n      <td>...</td>\n      <td>...</td>\n    </tr>\n    <tr>\n      <th>226537</th>\n      <td>7b054499c03cf0a5975eee87e3ae7aaf</td>\n      <td>CE</td>\n      <td>230440</td>\n      <td>FORTALEZA</td>\n      <td>PAPICU</td>\n      <td>FEMININO</td>\n      <td>38</td>\n      <td>2020-04-17T03:00:00.000+0000</td>\n      <td>2020-04-11T03:00:00.000+0000</td>\n      <td>2020-04-11T03:00:00.000+0000</td>\n      <td>Negativo</td>\n      <td>2020-04-11T03:00:00.000+0000</td>\n      <td>NaN</td>\n      <td>NaN</td>\n      <td>NaN</td>\n      <td>NaN</td>\n    </tr>\n    <tr>\n      <th>226538</th>\n      <td>50acc05104cc543b64025eb4b96f6862</td>\n      <td>CE</td>\n      <td>230440</td>\n      <td>FORTALEZA</td>\n      <td>PARQUE IRACEMA</td>\n      <td>MASCULINO</td>\n      <td>44</td>\n      <td>2020-05-22T03:00:00.000+0000</td>\n      <td>2020-05-19T03:00:00.000+0000</td>\n      <td>2020-05-19T03:00:00.000+0000</td>\n      <td>Negativo</td>\n      <td>2020-05-15T03:00:00.000+0000</td>\n      <td>NaN</td>\n      <td>NaN</td>\n      <td>NaN</td>\n      <td>NaN</td>\n    </tr>\n    <tr>\n      <th>226539</th>\n      <td>3259755c9fff6f31a7118e8023bcb581</td>\n      <td>CE</td>\n      <td>230440</td>\n      <td>FORTALEZA</td>\n      <td>VILA MANUEL SATIRO</td>\n      <td>MASCULINO</td>\n      <td>42</td>\n      <td>2020-06-13T03:00:00.000+0000</td>\n      <td>2020-06-13T03:00:00.000+0000</td>\n      <td>2020-06-13T03:00:00.000+0000</td>\n      <td>Negativo</td>\n      <td>2020-06-13T03:00:00.000+0000</td>\n      <td>NaN</td>\n      <td>NaN</td>\n      <td>NaN</td>\n      <td>NaN</td>\n    </tr>\n    <tr>\n      <th>226540</th>\n      <td>a07dd057a9cd19796588b6f7f036a22e</td>\n      <td>CE</td>\n      <td>230440</td>\n      <td>FORTALEZA</td>\n      <td>MESSEJANA</td>\n      <td>FEMININO</td>\n      <td>44</td>\n      <td>2020-04-24T03:00:00.000+0000</td>\n      <td>2020-04-30T03:00:00.000+0000</td>\n      <td>2020-04-30T03:00:00.000+0000</td>\n      <td>Positivo</td>\n      <td>2020-04-18T03:00:00.000+0000</td>\n      <td>NaN</td>\n      <td>NaN</td>\n      <td>NaN</td>\n      <td>NaN</td>\n    </tr>\n    <tr>\n      <th>226541</th>\n      <td>d641dd8583642cf7cd9d139cd2282c49</td>\n      <td>CE</td>\n      <td>230440</td>\n      <td>FORTALEZA</td>\n      <td>DIONISIO TORRES</td>\n      <td>MASCULINO</td>\n      <td>59</td>\n      <td>2020-05-29T03:00:00.000+0000</td>\n      <td>2020-05-18T03:00:00.000+0000</td>\n      <td>2020-05-18T03:00:00.000+0000</td>\n      <td>Negativo</td>\n      <td>2020-05-18T03:00:00.000+0000</td>\n      <td>NaN</td>\n      <td>NaN</td>\n      <td>NaN</td>\n      <td>NaN</td>\n    </tr>\n  </tbody>\n</table>\n<p>86582 rows × 16 columns</p>\n</div>"
     },
     "metadata": {},
     "execution_count": 23
    }
   ],
   "source": [
    "cases_covid_fortaleza = cases_covid[cases_covid['municipioPaciente'] == 'FORTALEZA']\n",
    "cases_covid_fortaleza"
   ]
  },
  {
   "cell_type": "code",
   "execution_count": 27,
   "metadata": {},
   "outputs": [],
   "source": [
    "cases_covid_fortaleza_no_nan = cases_covid_fortaleza"
   ]
  },
  {
   "cell_type": "code",
   "execution_count": 29,
   "metadata": {},
   "outputs": [],
   "source": [
    "cases_covid_fortaleza_no_nan['bairroPaciente'].fillna('NAO INFORMADO', inplace=True)"
   ]
  },
  {
   "cell_type": "code",
   "execution_count": 30,
   "metadata": {},
   "outputs": [
    {
     "output_type": "execute_result",
     "data": {
      "text/plain": "                          codigoPaciente estadoPaciente  \\\n80      e9ed8b21dd8b690668555e4d124c24df             CE   \n116     90f77ebef4623e7e2c54e929519c532c             CE   \n181     e7d21e6b7ab106de3d8b397a5cd45587             CE   \n192     cc910b999de815963fe5a587e6519f67             CE   \n521     510ec9c53a897fe8903714f2a503bf46             CE   \n...                                  ...            ...   \n226345  964d068edbcc8bdb2293dee815a54750             CE   \n226352  ab4992009c1e3b011ca5a8983d4d3f57             CE   \n226371  434fb5b371cd98f987d9a15b55c2768c             CE   \n226428  1bbf01288e52a4f79381f0031ed1cf04             CE   \n226522  97e096dfc828275953d7a83ee6a446e3             CE   \n\n       codigoMunicipioPaciente municipioPaciente bairroPaciente sexoPaciente  \\\n80                      230440         FORTALEZA  NAO INFORMADO    MASCULINO   \n116                     230440         FORTALEZA  NAO INFORMADO    MASCULINO   \n181                     230440         FORTALEZA  NAO INFORMADO     FEMININO   \n192                     230440         FORTALEZA  NAO INFORMADO     FEMININO   \n521                     230440         FORTALEZA  NAO INFORMADO    MASCULINO   \n...                        ...               ...            ...          ...   \n226345                  230440         FORTALEZA  NAO INFORMADO    MASCULINO   \n226352                  230440         FORTALEZA  NAO INFORMADO     FEMININO   \n226371                  230440         FORTALEZA  NAO INFORMADO    MASCULINO   \n226428                  230440         FORTALEZA  NAO INFORMADO    MASCULINO   \n226522                  230440         FORTALEZA  NAO INFORMADO     FEMININO   \n\n       idadePaciente               dataNotificacao  \\\n80                60  2020-04-27T03:00:00.000+0000   \n116               41  2020-05-11T03:00:00.000+0000   \n181               63  2020-04-25T03:00:00.000+0000   \n192               67  2020-04-30T03:00:00.000+0000   \n521               53  2020-06-15T03:00:00.000+0000   \n...              ...                           ...   \n226345            34  2020-04-30T03:00:00.000+0000   \n226352            45  2020-05-06T03:00:00.000+0000   \n226371            75  2020-04-27T03:00:00.000+0000   \n226428            83  2020-05-19T03:00:00.000+0000   \n226522            31  2020-05-06T03:00:00.000+0000   \n\n                     dataColetaExame            dataResultadoExame  \\\n80      2020-04-15T03:00:00.000+0000  2020-04-15T03:00:00.000+0000   \n116     2020-05-04T03:00:00.000+0000  2020-05-04T03:00:00.000+0000   \n181     2020-04-14T03:00:00.000+0000  2020-04-14T03:00:00.000+0000   \n192     2020-04-17T03:00:00.000+0000  2020-04-17T03:00:00.000+0000   \n521     2020-05-11T03:00:00.000+0000  2020-05-11T03:00:00.000+0000   \n...                              ...                           ...   \n226345  2020-04-23T03:00:00.000+0000  2020-04-23T03:00:00.000+0000   \n226352  2020-04-30T03:00:00.000+0000  2020-04-30T03:00:00.000+0000   \n226371  2020-04-22T03:00:00.000+0000  2020-04-22T03:00:00.000+0000   \n226428  2020-05-18T03:00:00.000+0000  2020-05-18T03:00:00.000+0000   \n226522  2020-04-24T03:00:00.000+0000  2020-04-24T03:00:00.000+0000   \n\n       resultadoFinalExame            dataInicioSintomas paisPaciente  \\\n80                Negativo  2020-03-30T03:00:00.000+0000          NaN   \n116               Negativo  2020-04-30T03:00:00.000+0000          NaN   \n181               Negativo  2020-03-18T03:00:00.000+0000          NaN   \n192               Negativo  2020-04-14T03:00:00.000+0000          NaN   \n521               Negativo  2020-05-09T03:00:00.000+0000          NaN   \n...                    ...                           ...          ...   \n226345            Positivo  2020-03-23T03:00:00.000+0000          NaN   \n226352            Negativo  2020-04-25T03:00:00.000+0000          NaN   \n226371            Negativo  2020-04-14T03:00:00.000+0000          NaN   \n226428            Positivo  2020-05-15T03:00:00.000+0000       BRASIL   \n226522            Negativo  2020-04-20T03:00:00.000+0000          NaN   \n\n       obitoConfirmado dataObito dataSolicitacaoExame  \n80                 NaN       NaN                  NaN  \n116                NaN       NaN                  NaN  \n181                NaN       NaN                  NaN  \n192                NaN       NaN                  NaN  \n521                NaN       NaN                  NaN  \n...                ...       ...                  ...  \n226345             NaN       NaN                  NaN  \n226352             NaN       NaN                  NaN  \n226371             NaN       NaN                  NaN  \n226428             NaN       NaN                  NaN  \n226522             NaN       NaN                  NaN  \n\n[7270 rows x 16 columns]",
      "text/html": "<div>\n<style scoped>\n    .dataframe tbody tr th:only-of-type {\n        vertical-align: middle;\n    }\n\n    .dataframe tbody tr th {\n        vertical-align: top;\n    }\n\n    .dataframe thead th {\n        text-align: right;\n    }\n</style>\n<table border=\"1\" class=\"dataframe\">\n  <thead>\n    <tr style=\"text-align: right;\">\n      <th></th>\n      <th>codigoPaciente</th>\n      <th>estadoPaciente</th>\n      <th>codigoMunicipioPaciente</th>\n      <th>municipioPaciente</th>\n      <th>bairroPaciente</th>\n      <th>sexoPaciente</th>\n      <th>idadePaciente</th>\n      <th>dataNotificacao</th>\n      <th>dataColetaExame</th>\n      <th>dataResultadoExame</th>\n      <th>resultadoFinalExame</th>\n      <th>dataInicioSintomas</th>\n      <th>paisPaciente</th>\n      <th>obitoConfirmado</th>\n      <th>dataObito</th>\n      <th>dataSolicitacaoExame</th>\n    </tr>\n  </thead>\n  <tbody>\n    <tr>\n      <th>80</th>\n      <td>e9ed8b21dd8b690668555e4d124c24df</td>\n      <td>CE</td>\n      <td>230440</td>\n      <td>FORTALEZA</td>\n      <td>NAO INFORMADO</td>\n      <td>MASCULINO</td>\n      <td>60</td>\n      <td>2020-04-27T03:00:00.000+0000</td>\n      <td>2020-04-15T03:00:00.000+0000</td>\n      <td>2020-04-15T03:00:00.000+0000</td>\n      <td>Negativo</td>\n      <td>2020-03-30T03:00:00.000+0000</td>\n      <td>NaN</td>\n      <td>NaN</td>\n      <td>NaN</td>\n      <td>NaN</td>\n    </tr>\n    <tr>\n      <th>116</th>\n      <td>90f77ebef4623e7e2c54e929519c532c</td>\n      <td>CE</td>\n      <td>230440</td>\n      <td>FORTALEZA</td>\n      <td>NAO INFORMADO</td>\n      <td>MASCULINO</td>\n      <td>41</td>\n      <td>2020-05-11T03:00:00.000+0000</td>\n      <td>2020-05-04T03:00:00.000+0000</td>\n      <td>2020-05-04T03:00:00.000+0000</td>\n      <td>Negativo</td>\n      <td>2020-04-30T03:00:00.000+0000</td>\n      <td>NaN</td>\n      <td>NaN</td>\n      <td>NaN</td>\n      <td>NaN</td>\n    </tr>\n    <tr>\n      <th>181</th>\n      <td>e7d21e6b7ab106de3d8b397a5cd45587</td>\n      <td>CE</td>\n      <td>230440</td>\n      <td>FORTALEZA</td>\n      <td>NAO INFORMADO</td>\n      <td>FEMININO</td>\n      <td>63</td>\n      <td>2020-04-25T03:00:00.000+0000</td>\n      <td>2020-04-14T03:00:00.000+0000</td>\n      <td>2020-04-14T03:00:00.000+0000</td>\n      <td>Negativo</td>\n      <td>2020-03-18T03:00:00.000+0000</td>\n      <td>NaN</td>\n      <td>NaN</td>\n      <td>NaN</td>\n      <td>NaN</td>\n    </tr>\n    <tr>\n      <th>192</th>\n      <td>cc910b999de815963fe5a587e6519f67</td>\n      <td>CE</td>\n      <td>230440</td>\n      <td>FORTALEZA</td>\n      <td>NAO INFORMADO</td>\n      <td>FEMININO</td>\n      <td>67</td>\n      <td>2020-04-30T03:00:00.000+0000</td>\n      <td>2020-04-17T03:00:00.000+0000</td>\n      <td>2020-04-17T03:00:00.000+0000</td>\n      <td>Negativo</td>\n      <td>2020-04-14T03:00:00.000+0000</td>\n      <td>NaN</td>\n      <td>NaN</td>\n      <td>NaN</td>\n      <td>NaN</td>\n    </tr>\n    <tr>\n      <th>521</th>\n      <td>510ec9c53a897fe8903714f2a503bf46</td>\n      <td>CE</td>\n      <td>230440</td>\n      <td>FORTALEZA</td>\n      <td>NAO INFORMADO</td>\n      <td>MASCULINO</td>\n      <td>53</td>\n      <td>2020-06-15T03:00:00.000+0000</td>\n      <td>2020-05-11T03:00:00.000+0000</td>\n      <td>2020-05-11T03:00:00.000+0000</td>\n      <td>Negativo</td>\n      <td>2020-05-09T03:00:00.000+0000</td>\n      <td>NaN</td>\n      <td>NaN</td>\n      <td>NaN</td>\n      <td>NaN</td>\n    </tr>\n    <tr>\n      <th>...</th>\n      <td>...</td>\n      <td>...</td>\n      <td>...</td>\n      <td>...</td>\n      <td>...</td>\n      <td>...</td>\n      <td>...</td>\n      <td>...</td>\n      <td>...</td>\n      <td>...</td>\n      <td>...</td>\n      <td>...</td>\n      <td>...</td>\n      <td>...</td>\n      <td>...</td>\n      <td>...</td>\n    </tr>\n    <tr>\n      <th>226345</th>\n      <td>964d068edbcc8bdb2293dee815a54750</td>\n      <td>CE</td>\n      <td>230440</td>\n      <td>FORTALEZA</td>\n      <td>NAO INFORMADO</td>\n      <td>MASCULINO</td>\n      <td>34</td>\n      <td>2020-04-30T03:00:00.000+0000</td>\n      <td>2020-04-23T03:00:00.000+0000</td>\n      <td>2020-04-23T03:00:00.000+0000</td>\n      <td>Positivo</td>\n      <td>2020-03-23T03:00:00.000+0000</td>\n      <td>NaN</td>\n      <td>NaN</td>\n      <td>NaN</td>\n      <td>NaN</td>\n    </tr>\n    <tr>\n      <th>226352</th>\n      <td>ab4992009c1e3b011ca5a8983d4d3f57</td>\n      <td>CE</td>\n      <td>230440</td>\n      <td>FORTALEZA</td>\n      <td>NAO INFORMADO</td>\n      <td>FEMININO</td>\n      <td>45</td>\n      <td>2020-05-06T03:00:00.000+0000</td>\n      <td>2020-04-30T03:00:00.000+0000</td>\n      <td>2020-04-30T03:00:00.000+0000</td>\n      <td>Negativo</td>\n      <td>2020-04-25T03:00:00.000+0000</td>\n      <td>NaN</td>\n      <td>NaN</td>\n      <td>NaN</td>\n      <td>NaN</td>\n    </tr>\n    <tr>\n      <th>226371</th>\n      <td>434fb5b371cd98f987d9a15b55c2768c</td>\n      <td>CE</td>\n      <td>230440</td>\n      <td>FORTALEZA</td>\n      <td>NAO INFORMADO</td>\n      <td>MASCULINO</td>\n      <td>75</td>\n      <td>2020-04-27T03:00:00.000+0000</td>\n      <td>2020-04-22T03:00:00.000+0000</td>\n      <td>2020-04-22T03:00:00.000+0000</td>\n      <td>Negativo</td>\n      <td>2020-04-14T03:00:00.000+0000</td>\n      <td>NaN</td>\n      <td>NaN</td>\n      <td>NaN</td>\n      <td>NaN</td>\n    </tr>\n    <tr>\n      <th>226428</th>\n      <td>1bbf01288e52a4f79381f0031ed1cf04</td>\n      <td>CE</td>\n      <td>230440</td>\n      <td>FORTALEZA</td>\n      <td>NAO INFORMADO</td>\n      <td>MASCULINO</td>\n      <td>83</td>\n      <td>2020-05-19T03:00:00.000+0000</td>\n      <td>2020-05-18T03:00:00.000+0000</td>\n      <td>2020-05-18T03:00:00.000+0000</td>\n      <td>Positivo</td>\n      <td>2020-05-15T03:00:00.000+0000</td>\n      <td>BRASIL</td>\n      <td>NaN</td>\n      <td>NaN</td>\n      <td>NaN</td>\n    </tr>\n    <tr>\n      <th>226522</th>\n      <td>97e096dfc828275953d7a83ee6a446e3</td>\n      <td>CE</td>\n      <td>230440</td>\n      <td>FORTALEZA</td>\n      <td>NAO INFORMADO</td>\n      <td>FEMININO</td>\n      <td>31</td>\n      <td>2020-05-06T03:00:00.000+0000</td>\n      <td>2020-04-24T03:00:00.000+0000</td>\n      <td>2020-04-24T03:00:00.000+0000</td>\n      <td>Negativo</td>\n      <td>2020-04-20T03:00:00.000+0000</td>\n      <td>NaN</td>\n      <td>NaN</td>\n      <td>NaN</td>\n      <td>NaN</td>\n    </tr>\n  </tbody>\n</table>\n<p>7270 rows × 16 columns</p>\n</div>"
     },
     "metadata": {},
     "execution_count": 30
    }
   ],
   "source": [
    "cases_covid_fortaleza_no_nan[cases_covid_fortaleza_no_nan['bairroPaciente'] == 'NAO INFORMADO']"
   ]
  },
  {
   "cell_type": "code",
   "execution_count": 43,
   "metadata": {},
   "outputs": [],
   "source": [
    "cases_covid_fortaleza_no_nan['bairroPaciente'] = cases_covid_fortaleza_no_nan['bairroPaciente'].map(clean_neighborhood_names)"
   ]
  },
  {
   "cell_type": "code",
   "execution_count": 44,
   "metadata": {},
   "outputs": [
    {
     "output_type": "execute_result",
     "data": {
      "text/plain": "                          codigoPaciente estadoPaciente  \\\n0       601b1a91127c8a328aa7c99e09c3ebf7             CE   \n1       19d83bb6aa77440247f43abeca1c0272             CE   \n2       647e24e07b9210a5bb8d49a30f45a04f             CE   \n3       7b9535aedf273531d605b689cc3ef801             CE   \n4       58062ee3930dd30c9edecb1085a73f40             CE   \n...                                  ...            ...   \n226537  7b054499c03cf0a5975eee87e3ae7aaf             CE   \n226538  50acc05104cc543b64025eb4b96f6862             CE   \n226539  3259755c9fff6f31a7118e8023bcb581             CE   \n226540  a07dd057a9cd19796588b6f7f036a22e             CE   \n226541  d641dd8583642cf7cd9d139cd2282c49             CE   \n\n       codigoMunicipioPaciente municipioPaciente      bairroPaciente  \\\n0                       230440         FORTALEZA           SAPIRANGA   \n1                       230440         FORTALEZA      HENRIQUE JORGE   \n2                       230440         FORTALEZA           PARANGABA   \n3                       230440         FORTALEZA            MEIRELES   \n4                       230440         FORTALEZA           PARANGABA   \n...                        ...               ...                 ...   \n226537                  230440         FORTALEZA              PAPICU   \n226538                  230440         FORTALEZA      PARQUE IRACEMA   \n226539                  230440         FORTALEZA  VILA MANUEL SATIRO   \n226540                  230440         FORTALEZA           MESSEJANA   \n226541                  230440         FORTALEZA     DIONISIO TORRES   \n\n       sexoPaciente idadePaciente               dataNotificacao  \\\n0         MASCULINO            33  2020-06-01T03:00:00.000+0000   \n1          FEMININO            32  2020-05-16T03:00:00.000+0000   \n2         MASCULINO            45  2020-05-28T03:00:00.000+0000   \n3         MASCULINO            49  2020-05-19T03:00:00.000+0000   \n4         MASCULINO            34  2020-05-26T03:00:00.000+0000   \n...             ...           ...                           ...   \n226537     FEMININO            38  2020-04-17T03:00:00.000+0000   \n226538    MASCULINO            44  2020-05-22T03:00:00.000+0000   \n226539    MASCULINO            42  2020-06-13T03:00:00.000+0000   \n226540     FEMININO            44  2020-04-24T03:00:00.000+0000   \n226541    MASCULINO            59  2020-05-29T03:00:00.000+0000   \n\n                     dataColetaExame            dataResultadoExame  \\\n0       2020-06-01T03:00:00.000+0000  2020-06-01T03:00:00.000+0000   \n1       2020-05-16T03:00:00.000+0000  2020-05-16T03:00:00.000+0000   \n2       2020-05-25T03:00:00.000+0000  2020-05-25T03:00:00.000+0000   \n3       2020-04-23T03:00:00.000+0000  2020-04-23T03:00:00.000+0000   \n4       2020-05-21T03:00:00.000+0000  2020-05-21T03:00:00.000+0000   \n...                              ...                           ...   \n226537  2020-04-11T03:00:00.000+0000  2020-04-11T03:00:00.000+0000   \n226538  2020-05-19T03:00:00.000+0000  2020-05-19T03:00:00.000+0000   \n226539  2020-06-13T03:00:00.000+0000  2020-06-13T03:00:00.000+0000   \n226540  2020-04-30T03:00:00.000+0000  2020-04-30T03:00:00.000+0000   \n226541  2020-05-18T03:00:00.000+0000  2020-05-18T03:00:00.000+0000   \n\n       resultadoFinalExame            dataInicioSintomas paisPaciente  \\\n0                 Negativo  2020-04-19T03:00:00.000+0000          NaN   \n1                 Negativo  2020-05-09T03:00:00.000+0000          NaN   \n2                 Negativo  2020-04-26T03:00:00.000+0000          NaN   \n3                 Negativo  2020-03-18T03:00:00.000+0000          NaN   \n4                 Negativo  2020-05-15T03:00:00.000+0000          NaN   \n...                    ...                           ...          ...   \n226537            Negativo  2020-04-11T03:00:00.000+0000          NaN   \n226538            Negativo  2020-05-15T03:00:00.000+0000          NaN   \n226539            Negativo  2020-06-13T03:00:00.000+0000          NaN   \n226540            Positivo  2020-04-18T03:00:00.000+0000          NaN   \n226541            Negativo  2020-05-18T03:00:00.000+0000          NaN   \n\n       obitoConfirmado dataObito dataSolicitacaoExame  \n0                  NaN       NaN                  NaN  \n1                  NaN       NaN                  NaN  \n2                  NaN       NaN                  NaN  \n3                  NaN       NaN                  NaN  \n4                  NaN       NaN                  NaN  \n...                ...       ...                  ...  \n226537             NaN       NaN                  NaN  \n226538             NaN       NaN                  NaN  \n226539             NaN       NaN                  NaN  \n226540             NaN       NaN                  NaN  \n226541             NaN       NaN                  NaN  \n\n[86582 rows x 16 columns]",
      "text/html": "<div>\n<style scoped>\n    .dataframe tbody tr th:only-of-type {\n        vertical-align: middle;\n    }\n\n    .dataframe tbody tr th {\n        vertical-align: top;\n    }\n\n    .dataframe thead th {\n        text-align: right;\n    }\n</style>\n<table border=\"1\" class=\"dataframe\">\n  <thead>\n    <tr style=\"text-align: right;\">\n      <th></th>\n      <th>codigoPaciente</th>\n      <th>estadoPaciente</th>\n      <th>codigoMunicipioPaciente</th>\n      <th>municipioPaciente</th>\n      <th>bairroPaciente</th>\n      <th>sexoPaciente</th>\n      <th>idadePaciente</th>\n      <th>dataNotificacao</th>\n      <th>dataColetaExame</th>\n      <th>dataResultadoExame</th>\n      <th>resultadoFinalExame</th>\n      <th>dataInicioSintomas</th>\n      <th>paisPaciente</th>\n      <th>obitoConfirmado</th>\n      <th>dataObito</th>\n      <th>dataSolicitacaoExame</th>\n    </tr>\n  </thead>\n  <tbody>\n    <tr>\n      <th>0</th>\n      <td>601b1a91127c8a328aa7c99e09c3ebf7</td>\n      <td>CE</td>\n      <td>230440</td>\n      <td>FORTALEZA</td>\n      <td>SAPIRANGA</td>\n      <td>MASCULINO</td>\n      <td>33</td>\n      <td>2020-06-01T03:00:00.000+0000</td>\n      <td>2020-06-01T03:00:00.000+0000</td>\n      <td>2020-06-01T03:00:00.000+0000</td>\n      <td>Negativo</td>\n      <td>2020-04-19T03:00:00.000+0000</td>\n      <td>NaN</td>\n      <td>NaN</td>\n      <td>NaN</td>\n      <td>NaN</td>\n    </tr>\n    <tr>\n      <th>1</th>\n      <td>19d83bb6aa77440247f43abeca1c0272</td>\n      <td>CE</td>\n      <td>230440</td>\n      <td>FORTALEZA</td>\n      <td>HENRIQUE JORGE</td>\n      <td>FEMININO</td>\n      <td>32</td>\n      <td>2020-05-16T03:00:00.000+0000</td>\n      <td>2020-05-16T03:00:00.000+0000</td>\n      <td>2020-05-16T03:00:00.000+0000</td>\n      <td>Negativo</td>\n      <td>2020-05-09T03:00:00.000+0000</td>\n      <td>NaN</td>\n      <td>NaN</td>\n      <td>NaN</td>\n      <td>NaN</td>\n    </tr>\n    <tr>\n      <th>2</th>\n      <td>647e24e07b9210a5bb8d49a30f45a04f</td>\n      <td>CE</td>\n      <td>230440</td>\n      <td>FORTALEZA</td>\n      <td>PARANGABA</td>\n      <td>MASCULINO</td>\n      <td>45</td>\n      <td>2020-05-28T03:00:00.000+0000</td>\n      <td>2020-05-25T03:00:00.000+0000</td>\n      <td>2020-05-25T03:00:00.000+0000</td>\n      <td>Negativo</td>\n      <td>2020-04-26T03:00:00.000+0000</td>\n      <td>NaN</td>\n      <td>NaN</td>\n      <td>NaN</td>\n      <td>NaN</td>\n    </tr>\n    <tr>\n      <th>3</th>\n      <td>7b9535aedf273531d605b689cc3ef801</td>\n      <td>CE</td>\n      <td>230440</td>\n      <td>FORTALEZA</td>\n      <td>MEIRELES</td>\n      <td>MASCULINO</td>\n      <td>49</td>\n      <td>2020-05-19T03:00:00.000+0000</td>\n      <td>2020-04-23T03:00:00.000+0000</td>\n      <td>2020-04-23T03:00:00.000+0000</td>\n      <td>Negativo</td>\n      <td>2020-03-18T03:00:00.000+0000</td>\n      <td>NaN</td>\n      <td>NaN</td>\n      <td>NaN</td>\n      <td>NaN</td>\n    </tr>\n    <tr>\n      <th>4</th>\n      <td>58062ee3930dd30c9edecb1085a73f40</td>\n      <td>CE</td>\n      <td>230440</td>\n      <td>FORTALEZA</td>\n      <td>PARANGABA</td>\n      <td>MASCULINO</td>\n      <td>34</td>\n      <td>2020-05-26T03:00:00.000+0000</td>\n      <td>2020-05-21T03:00:00.000+0000</td>\n      <td>2020-05-21T03:00:00.000+0000</td>\n      <td>Negativo</td>\n      <td>2020-05-15T03:00:00.000+0000</td>\n      <td>NaN</td>\n      <td>NaN</td>\n      <td>NaN</td>\n      <td>NaN</td>\n    </tr>\n    <tr>\n      <th>...</th>\n      <td>...</td>\n      <td>...</td>\n      <td>...</td>\n      <td>...</td>\n      <td>...</td>\n      <td>...</td>\n      <td>...</td>\n      <td>...</td>\n      <td>...</td>\n      <td>...</td>\n      <td>...</td>\n      <td>...</td>\n      <td>...</td>\n      <td>...</td>\n      <td>...</td>\n      <td>...</td>\n    </tr>\n    <tr>\n      <th>226537</th>\n      <td>7b054499c03cf0a5975eee87e3ae7aaf</td>\n      <td>CE</td>\n      <td>230440</td>\n      <td>FORTALEZA</td>\n      <td>PAPICU</td>\n      <td>FEMININO</td>\n      <td>38</td>\n      <td>2020-04-17T03:00:00.000+0000</td>\n      <td>2020-04-11T03:00:00.000+0000</td>\n      <td>2020-04-11T03:00:00.000+0000</td>\n      <td>Negativo</td>\n      <td>2020-04-11T03:00:00.000+0000</td>\n      <td>NaN</td>\n      <td>NaN</td>\n      <td>NaN</td>\n      <td>NaN</td>\n    </tr>\n    <tr>\n      <th>226538</th>\n      <td>50acc05104cc543b64025eb4b96f6862</td>\n      <td>CE</td>\n      <td>230440</td>\n      <td>FORTALEZA</td>\n      <td>PARQUE IRACEMA</td>\n      <td>MASCULINO</td>\n      <td>44</td>\n      <td>2020-05-22T03:00:00.000+0000</td>\n      <td>2020-05-19T03:00:00.000+0000</td>\n      <td>2020-05-19T03:00:00.000+0000</td>\n      <td>Negativo</td>\n      <td>2020-05-15T03:00:00.000+0000</td>\n      <td>NaN</td>\n      <td>NaN</td>\n      <td>NaN</td>\n      <td>NaN</td>\n    </tr>\n    <tr>\n      <th>226539</th>\n      <td>3259755c9fff6f31a7118e8023bcb581</td>\n      <td>CE</td>\n      <td>230440</td>\n      <td>FORTALEZA</td>\n      <td>VILA MANUEL SATIRO</td>\n      <td>MASCULINO</td>\n      <td>42</td>\n      <td>2020-06-13T03:00:00.000+0000</td>\n      <td>2020-06-13T03:00:00.000+0000</td>\n      <td>2020-06-13T03:00:00.000+0000</td>\n      <td>Negativo</td>\n      <td>2020-06-13T03:00:00.000+0000</td>\n      <td>NaN</td>\n      <td>NaN</td>\n      <td>NaN</td>\n      <td>NaN</td>\n    </tr>\n    <tr>\n      <th>226540</th>\n      <td>a07dd057a9cd19796588b6f7f036a22e</td>\n      <td>CE</td>\n      <td>230440</td>\n      <td>FORTALEZA</td>\n      <td>MESSEJANA</td>\n      <td>FEMININO</td>\n      <td>44</td>\n      <td>2020-04-24T03:00:00.000+0000</td>\n      <td>2020-04-30T03:00:00.000+0000</td>\n      <td>2020-04-30T03:00:00.000+0000</td>\n      <td>Positivo</td>\n      <td>2020-04-18T03:00:00.000+0000</td>\n      <td>NaN</td>\n      <td>NaN</td>\n      <td>NaN</td>\n      <td>NaN</td>\n    </tr>\n    <tr>\n      <th>226541</th>\n      <td>d641dd8583642cf7cd9d139cd2282c49</td>\n      <td>CE</td>\n      <td>230440</td>\n      <td>FORTALEZA</td>\n      <td>DIONISIO TORRES</td>\n      <td>MASCULINO</td>\n      <td>59</td>\n      <td>2020-05-29T03:00:00.000+0000</td>\n      <td>2020-05-18T03:00:00.000+0000</td>\n      <td>2020-05-18T03:00:00.000+0000</td>\n      <td>Negativo</td>\n      <td>2020-05-18T03:00:00.000+0000</td>\n      <td>NaN</td>\n      <td>NaN</td>\n      <td>NaN</td>\n      <td>NaN</td>\n    </tr>\n  </tbody>\n</table>\n<p>86582 rows × 16 columns</p>\n</div>"
     },
     "metadata": {},
     "execution_count": 44
    }
   ],
   "source": [
    "cases_covid_fortaleza_no_nan"
   ]
  },
  {
   "cell_type": "code",
   "execution_count": 65,
   "metadata": {},
   "outputs": [],
   "source": [
    "def replace_for_official_names(neighborhood_name, official_neighborhood_names):\n",
    "    for name in official_neighborhood_names:\n",
    "        if distance(neighborhood_name, name) < 5:\n",
    "            return name\n",
    "    return 'NAO INFORMADO'"
   ]
  },
  {
   "cell_type": "code",
   "execution_count": 62,
   "metadata": {},
   "outputs": [
    {
     "output_type": "stream",
     "name": "stdout",
     "text": "ALVARO WEYNE\n"
    }
   ],
   "source": [
    "bairro_teste = 'ALVARO ENY'\n",
    "print(replace_for_official_names(bairro_teste, bairros['NOME'].tolist()))"
   ]
  },
  {
   "cell_type": "code",
   "execution_count": 66,
   "metadata": {},
   "outputs": [],
   "source": [
    "cases_covid_fortaleza_cleaned = cases_covid_fortaleza_no_nan"
   ]
  },
  {
   "cell_type": "code",
   "execution_count": 68,
   "metadata": {},
   "outputs": [],
   "source": [
    "neighborhood_list = bairros['NOME'].tolist()"
   ]
  },
  {
   "cell_type": "code",
   "execution_count": 69,
   "metadata": {},
   "outputs": [],
   "source": [
    "cases_covid_fortaleza_cleaned['bairroPaciente'] = cases_covid_fortaleza_cleaned['bairroPaciente'].apply(replace_for_official_names, official_neighborhood_names = neighborhood_list)"
   ]
  },
  {
   "cell_type": "code",
   "execution_count": 70,
   "metadata": {},
   "outputs": [
    {
     "output_type": "execute_result",
     "data": {
      "text/plain": "bairroPaciente\nAEROLANDIA          25\nAEROPORTO          136\nALDEOTA             23\nALTO DA BALANCA    263\nALVARO WEYNE       678\n                  ... \nVICENTE PINZON     894\nVILA ELLERY        115\nVILA PERY            8\nVILA UNIAO         775\nVILA VELHA         881\nLength: 118, dtype: int64"
     },
     "metadata": {},
     "execution_count": 70
    }
   ],
   "source": [
    "cases_covid_fortaleza_cleaned.groupby('bairroPaciente').size()"
   ]
  }
 ],
 "metadata": {
  "language_info": {
   "codemirror_mode": {
    "name": "ipython",
    "version": 3
   },
   "file_extension": ".py",
   "mimetype": "text/x-python",
   "name": "python",
   "nbconvert_exporter": "python",
   "pygments_lexer": "ipython3",
   "version": "3.7.6-final"
  },
  "orig_nbformat": 2,
  "kernelspec": {
   "name": "python37364bitbasecondabf60750d4ace4701b72d66be8319987b",
   "display_name": "Python 3.7.3 64-bit ('base': conda)"
  }
 },
 "nbformat": 4,
 "nbformat_minor": 2
}